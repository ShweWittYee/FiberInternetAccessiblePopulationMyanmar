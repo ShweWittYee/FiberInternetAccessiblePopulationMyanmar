{
 "cells": [
  {
   "cell_type": "markdown",
   "id": "8de9a05f",
   "metadata": {},
   "source": [
    "# ![purple-divider](https://user-images.githubusercontent.com/7065401/52071927-c1cd7100-2562-11e9-908a-dde91ba14e59.png)\n",
    "<h1><center> Analysis of Fiber Internet Accessiable Population of Myanmar</center></h1>"
   ]
  },
  {
   "cell_type": "code",
   "execution_count": 1,
   "id": "f8411887",
   "metadata": {},
   "outputs": [
    {
     "name": "stdout",
     "output_type": "stream",
     "text": [
      "['Amarapura', 'Aunglan', 'Aungpan', 'Ayetharyar', 'Bago', 'Bhamo', 'Chauk', 'Dawei', 'Gangaw', 'Gyobingauk', 'Hakha', 'Hinthada', 'Hlaingbwe', 'Hopin', 'Hpa-An', 'Hpakant', 'Hsipaw', 'Htigyaing', 'Kalaw', 'Kalay', 'Kanbalu', 'Kawlin', 'Kawthaung', 'Kengtung', 'Kutkai', 'Kyaikto', 'Kyaukme', 'Kyaukpadaung', 'Kyaukpyu', 'Kyaukse', 'Lashio', 'Launglon', 'Loikaw', 'Loilem', 'Madaya', 'Magway', 'Mandalay', 'Mawlamyine', 'Meiktila', 'Mogaung', 'Mogok', 'Mohnyin', 'Mong Hsat', 'Monywa', 'Mudon', 'Muse', 'Myaungmya', 'Myawaddy', 'Myeik', 'Myingyan', 'Myitkyina', 'Nansang', 'Nawnghkio', 'Naypyidaw', 'Nyaung-U', 'Nyaungdon', 'Nyaungshwe', 'Pakokku', 'Palaw', 'Pathein', 'Pathein Gyi', 'Pyawbwe', 'Pyay', 'Pyin Oo Lwin', 'Pyinmana', 'Pyu', 'Sagaing', 'Seikmu', 'Shwebo', 'Shwenyaung', 'Sittwe', 'Tachileik', 'Tamu', 'Tangyan', 'Taunggyi', 'Taungoo', 'Thanbyuzayat', 'Thaton', 'Thayetchaung', 'Yamethin', 'Yangon', 'Ye', 'Ye-U'] \n",
      " 83\n"
     ]
    }
   ],
   "source": [
    "# Ooredoo coverage cities and towns\n",
    "import pandas as pd\n",
    "pd.set_option('display.max_rows', None) # display all rows of a dataframe\n",
    "ooredoo = \"Hinthada, Hsipaw, Kalaw, Kyaikto, Kyaukpadaung, Kyaukse, Lashio, Meiktila, Mogok, Mudon, Myingyan, Pyinmana, Nyaung-U, Nyaungshwe, Pathein, Pyay, Pyin Oo Lwin, Shwebo, Tachileik, Tangyan, Taungoo, Taunggyi, Thanbyuzayat, Thaton, Ye\"\n",
    "# Telenor coverage cities and towns\n",
    "telenor = \"Pathein, Hinthada, Yangon, Mandalay, Pathein Gyi, Amarapura, Pyin Oo Lwin, Myitkyina, Myingyan, Kyaukse, Mogok, Meiktila, Kyaukpadaung, Pyinmana\"\n",
    "# MPT coverage cities and towns\n",
    "mpt = \"Yangon, Mandalay, Meiktila, Mogok, Amarapura, Yamethin, Kyaukse, Madaya, Pathein Gyi, Pyawbwe, Monywa, Kanbalu, Sagaing, Shwebo, Ye-U, Kawlin, Kalay, Tamu,Htigyaing, Kawthaung, Myeik, Dawei, Palaw, Launglon, Thayetchaung, Taunggyi, Kalaw, Nansang, Muse, Kyaukme, Kengtung, Aungpan, Loilem, Nyaungshwe, Ayetharyar, Tachileik, Lashio, Hopin, Shwenyaung, Hsipaw, Mong Hsat, Nawnghkio, Bago, Gyobingauk, Taungoo, Pyu, Pyay, Naypyidaw, Pyinmana, Hpa-An, Myawaddy, Hlaingbwe, Mawlamyine, Ye, Thanbyuzayat, Pathein, Hinthada, Myaungmya, Nyaungdon, Loikaw, Hakha, Myitkyina, Bhamo, Mogaung, Mohnyin, Seikmu, Hpakant, Sittwe, Kyaukpyu, Aunglan, Chauk, Pakokku, Gangaw, Magway, Kutkai\"\n",
    "ooredoo = ooredoo.split(',')\n",
    "telenor = telenor.split(',')\n",
    "mpt = mpt.split(',')\n",
    "ooredoo = [i.strip() for i in ooredoo]\n",
    "telenor = [i.strip() for i in telenor]\n",
    "mpt = [i.strip() for i in mpt]\n",
    "# Total cities and towns of coverage\n",
    "coverage = ooredoo + telenor + mpt\n",
    "coverage = sorted(set(coverage), key= str.lower)\n",
    "print(\"{} \\n {}\".format(coverage,len(coverage)))"
   ]
  },
  {
   "cell_type": "code",
   "execution_count": 5,
   "id": "80f38a3a",
   "metadata": {},
   "outputs": [
    {
     "name": "stdout",
     "output_type": "stream",
     "text": [
      "     Rank          Town               State/Region  2014 Census  \\\n",
      "0     1.0        Lashio                 Shan State       144031   \n",
      "1     2.0  Pyin Oo Lwin            Mandalay Region       128783   \n",
      "2     3.0         Kalay             Sagaing Region       120506   \n",
      "3     4.0      Myawaddy                Kayin State       113155   \n",
      "4     6.0        Hpa-An                Kayin State        75141   \n",
      "5     7.0          Muse                 Shan State        74313   \n",
      "6     8.0      Pyinmana  Naypyidaw Union Territory        72010   \n",
      "7     9.0           Pyu                Bago Region        63880   \n",
      "8    10.0       Hpakant               Kachin State        60123   \n",
      "9    11.0     Myaungmya          Ayeyarwady Region        58698   \n",
      "10   13.0     Kawthaung         Tanintharyi Region        57949   \n",
      "11   14.0         Kalaw                 Shan State        57797   \n",
      "12   15.0  Thanbyuzayat                  Mon State        57208   \n",
      "13   16.0        Thaton                  Mon State        55047   \n",
      "14   17.0         Mudon                  Mon State        52514   \n",
      "15   18.0     Tachileik                 Shan State        51553   \n",
      "16   19.0        Loikaw                Kayah State        51349   \n",
      "17   21.0      Nyaung-U            Mandalay Region        48528   \n",
      "18   23.0         Chauk              Magway Region        45076   \n",
      "19   24.0      Kengtung                 Shan State        44289   \n",
      "20   25.0          Tamu             Sagaing Region        43737   \n",
      "21   29.0  Kyaukpadaung            Mandalay Region        42817   \n",
      "22   32.0       Kyaukse            Mandalay Region        41482   \n",
      "23   33.0       Kyaukme                 Shan State        39930   \n",
      "24   36.0       Kyaikto                  Mon State        35224   \n",
      "25   37.0            Ye                  Mon State        34430   \n",
      "26   38.0       Tangyan                 Shan State        33603   \n",
      "27   39.0       Mohnyin               Kachin State        33290   \n",
      "28   43.0       Pyawbwe            Mandalay Region        32214   \n",
      "29   47.0       Aungpan                 Shan State        30313   \n",
      "30   54.0      Yamethin            Mandalay Region        27698   \n",
      "31   60.0       Kanbalu             Sagaing Region        25022   \n",
      "32   61.0       Mogaung               Kachin State        25012   \n",
      "33   62.0        Kutkai                 Shan State        24963   \n",
      "34   66.0     Nyaungdon          Ayeyarwady Region        24455   \n",
      "35   68.0        Madaya            Mandalay Region        24234   \n",
      "36   70.0       Nansang                 Shan State        23792   \n",
      "37   72.0         Hopin               Kachin State        23352   \n",
      "38   74.0    Gyobingauk                Bago Region        22947   \n",
      "39   82.0        Kawlin             Sagaing Region        21431   \n",
      "40   85.0        Hsipaw                 Shan State        20897   \n",
      "41   86.0      Kyaukpyu              Rakhine State        20866   \n",
      "42   89.0          Ye-U             Sagaing Region        20458   \n",
      "43   94.0         Palaw         Tanintharyi Region        18936   \n",
      "44   96.0     Nawnghkio                 Shan State        18822   \n",
      "45  107.0    Nyaungshwe                 Shan State        16208   \n",
      "46  126.0        Gangaw              Magway Region        13939   \n",
      "47  130.0     Htigyaing             Sagaing Region        13535   \n",
      "48  131.0        Loilem                 Shan State        13460   \n",
      "49  150.0     Hlaingbwe                Kayin State        11511   \n",
      "50  153.0  Thayetchaung         Tanintharyi Region        11305   \n",
      "51  194.0     Mong Hsat                 Shan State         8004   \n",
      "52  231.0      Launglon         Tanintharyi Region         5334   \n",
      "\n",
      "    1993 Estimate   Change  \n",
      "0          107604  +33.85%  \n",
      "1           85712  +50.25%  \n",
      "2           68259  +76.54%  \n",
      "3          113155    0.00%  \n",
      "4           75141    0.00%  \n",
      "5           74313    0.00%  \n",
      "6           72010    0.00%  \n",
      "7           32946  +93.89%  \n",
      "8           60123    0.00%  \n",
      "9           58698    0.00%  \n",
      "10          57949    0.00%  \n",
      "11          57797    0.00%  \n",
      "12          57208    0.00%  \n",
      "13          86413  −36.30%  \n",
      "14          62222  −15.60%  \n",
      "15          51553    0.00%  \n",
      "16          51349    0.00%  \n",
      "17          48528    0.00%  \n",
      "18          67845  −33.56%  \n",
      "19          57022  −22.33%  \n",
      "20          43737    0.00%  \n",
      "21          42817    0.00%  \n",
      "22          37207  +11.49%  \n",
      "23          39930    0.00%  \n",
      "24          39694  −11.26%  \n",
      "25          38838  −11.35%  \n",
      "26          33603    0.00%  \n",
      "27          33290    0.00%  \n",
      "28          32214    0.00%  \n",
      "29          30313    0.00%  \n",
      "30          36395  −23.90%  \n",
      "31          25022    0.00%  \n",
      "32          25012    0.00%  \n",
      "33          24963    0.00%  \n",
      "34          32706  −25.23%  \n",
      "35          24234    0.00%  \n",
      "36          23792    0.00%  \n",
      "37          23352    0.00%  \n",
      "38          22947    0.00%  \n",
      "39          21431    0.00%  \n",
      "40          20897    0.00%  \n",
      "41          20866    0.00%  \n",
      "42          20458    0.00%  \n",
      "43          18936    0.00%  \n",
      "44          18822    0.00%  \n",
      "45          16208    0.00%  \n",
      "46          13939    0.00%  \n",
      "47          13535    0.00%  \n",
      "48          13460    0.00%  \n",
      "49          11511    0.00%  \n",
      "50          11305    0.00%  \n",
      "51           8004    0.00%  \n",
      "52           5334    0.00%  \n"
     ]
    }
   ],
   "source": [
    "# Population data is collected from wikipedia website\n",
    "url = \"https://en.wikipedia.org/wiki/List_of_cities_and_largest_towns_in_Myanmar\"\n",
    "infotable = pd.read_html(url, flavor = 'bs4')\n",
    "# The default parser is 'lxml' but there is a slower but more accurate parser - bs4(BeautifulSoup) parser.\n",
    "cities = infotable[0] # read_html() return list of dataframes even though there is only one dataframe.\n",
    "towns = infotable[1]\n",
    "# print(towns['2014 Census'].dtype)\n",
    "towns.drop(towns[(towns['Town'] == \"Kengtung\") & (towns['2014 Census'] == 9991)].index, inplace = True)\n",
    "# Coverage cities and towns list\n",
    "coverage_cities = [cov for cov in cities['City'] if cov in coverage]\n",
    "coverage_towns = [cov for cov in towns['Town'] if cov in coverage]\n",
    "coverage_cities_towns = coverage_cities + coverage_towns\n",
    "coverage_cities_towns = sorted(coverage_cities_towns, key= str.lower)\n",
    "# Dataframes for coverage cities and towns\n",
    "cities = cities[cities['City'].isin(coverage_cities)]\n",
    "towns = towns[towns['Town'].isin(coverage_towns)]\n",
    "cities.reset_index(drop=True, inplace=True) # reset index from 0\n",
    "towns.reset_index(drop=True, inplace=True) # reset index from 0\n",
    "print(towns)\n",
    "# print(\"{} \\n {}\".format(coverage_cities_towns,len(coverage_cities_towns)))"
   ]
  },
  {
   "cell_type": "code",
   "execution_count": 6,
   "id": "046d213e",
   "metadata": {},
   "outputs": [
    {
     "name": "stdout",
     "output_type": "stream",
     "text": [
      "{'Ayetharyar', 'Amarapura', 'Pathein Gyi', 'Seikmu', 'Shwenyaung'}\n"
     ]
    }
   ],
   "source": [
    "# This is a list of non coverage cities and towns of fiber internet\n",
    "non_coverage = [non_cov for non_cov in cities['City'] if non_cov not in coverage]\n",
    "non_coverage += [non_cov for non_cov in towns['Town'] if non_cov not in coverage]\n",
    "#print(non_coverage)\n",
    "# To find misspelling error, 'coverage' list and 'coverage_cities_towns' list are compared.\n",
    "error_check = set(coverage).difference(set(coverage_cities_towns))\n",
    "print(error_check)"
   ]
  },
  {
   "cell_type": "code",
   "execution_count": 10,
   "id": "ca6162e9",
   "metadata": {},
   "outputs": [
    {
     "data": {
      "text/plain": [
       "'12.194723 Millions of Myanmar people are currently accessible to Fiber Internet. '"
      ]
     },
     "execution_count": 10,
     "metadata": {},
     "output_type": "execute_result"
    }
   ],
   "source": [
    "# print(cities)\n",
    "# Calculate population of coverage cities and towns\n",
    "population = cities['2014 Census (2019 Estimate)'].sum() + towns['2014 Census'].sum()\n",
    "# Population of five towns is calculated via arcgis and data is collected from www.worldpop.org\n",
    "Seikmu_population = 25321\n",
    "Amarapura_population = 177247\n",
    "Ayetharyar_population = 84973\n",
    "Patheingyi_population = 113463\n",
    "Shwenyaung_population = 19918\n",
    "population += Seikmu_population + Amarapura_population + Ayetharyar_population + Patheingyi_population + Shwenyaung_population\n",
    "population_millions = population/1000000\n",
    "\"{} Millions of Myanmar people are currently accessible to Fiber Internet.\".format(population_millions)"
   ]
  },
  {
   "cell_type": "code",
   "execution_count": null,
   "id": "dfb3b51e",
   "metadata": {},
   "outputs": [],
   "source": []
  }
 ],
 "metadata": {
  "kernelspec": {
   "display_name": "Python 3",
   "language": "python",
   "name": "python3"
  },
  "language_info": {
   "codemirror_mode": {
    "name": "ipython",
    "version": 3
   },
   "file_extension": ".py",
   "mimetype": "text/x-python",
   "name": "python",
   "nbconvert_exporter": "python",
   "pygments_lexer": "ipython3",
   "version": "3.8.8"
  }
 },
 "nbformat": 4,
 "nbformat_minor": 5
}
